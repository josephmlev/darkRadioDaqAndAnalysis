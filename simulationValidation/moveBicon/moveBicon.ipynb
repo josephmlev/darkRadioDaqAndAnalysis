{
 "cells": [
  {
   "cell_type": "code",
   "execution_count": 1,
   "id": "5eec5dfc",
   "metadata": {},
   "outputs": [
    {
     "data": {
      "text/html": [
       "<style>.container { width:100% !important; }</style>"
      ],
      "text/plain": [
       "<IPython.core.display.HTML object>"
      ]
     },
     "metadata": {},
     "output_type": "display_data"
    }
   ],
   "source": [
    "import matplotlib\n",
    "import matplotlib.pyplot as plt\n",
    "import pandas as pd\n",
    "import numpy as np\n",
    "from scipy.interpolate import interp1d\n",
    "\n",
    "from IPython.core.display import display, HTML\n",
    "display(HTML(\"<style>.container { width:100% !important; }</style>\"))\n",
    "\n",
    "matplotlib.rc('xtick', labelsize=10) \n",
    "matplotlib.rc('ytick', labelsize=10) \n",
    "\n",
    "matplotlib.rcParams['figure.figsize'] = [12, 8]"
   ]
  },
  {
   "cell_type": "code",
   "execution_count": 80,
   "id": "8e706ba1",
   "metadata": {},
   "outputs": [
    {
     "data": {
      "text/html": [
       "<div>\n",
       "<style scoped>\n",
       "    .dataframe tbody tr th:only-of-type {\n",
       "        vertical-align: middle;\n",
       "    }\n",
       "\n",
       "    .dataframe tbody tr th {\n",
       "        vertical-align: top;\n",
       "    }\n",
       "\n",
       "    .dataframe thead th {\n",
       "        text-align: right;\n",
       "    }\n",
       "</style>\n",
       "<table border=\"1\" class=\"dataframe\">\n",
       "  <thead>\n",
       "    <tr style=\"text-align: right;\">\n",
       "      <th></th>\n",
       "      <th>Frequency</th>\n",
       "      <th>posX</th>\n",
       "      <th>posY</th>\n",
       "      <th>posZ</th>\n",
       "      <th>Power</th>\n",
       "    </tr>\n",
       "  </thead>\n",
       "  <tbody>\n",
       "    <tr>\n",
       "      <th>0</th>\n",
       "      <td>60.000000</td>\n",
       "      <td>-0.698</td>\n",
       "      <td>-0.3122</td>\n",
       "      <td>-1.204</td>\n",
       "      <td>-68.131123</td>\n",
       "    </tr>\n",
       "    <tr>\n",
       "      <th>1</th>\n",
       "      <td>62.222222</td>\n",
       "      <td>-0.698</td>\n",
       "      <td>-0.3122</td>\n",
       "      <td>-1.204</td>\n",
       "      <td>-65.113583</td>\n",
       "    </tr>\n",
       "    <tr>\n",
       "      <th>2</th>\n",
       "      <td>64.444444</td>\n",
       "      <td>-0.698</td>\n",
       "      <td>-0.3122</td>\n",
       "      <td>-1.204</td>\n",
       "      <td>-61.822011</td>\n",
       "    </tr>\n",
       "    <tr>\n",
       "      <th>3</th>\n",
       "      <td>66.666667</td>\n",
       "      <td>-0.698</td>\n",
       "      <td>-0.3122</td>\n",
       "      <td>-1.204</td>\n",
       "      <td>-58.094294</td>\n",
       "    </tr>\n",
       "    <tr>\n",
       "      <th>4</th>\n",
       "      <td>68.888889</td>\n",
       "      <td>-0.698</td>\n",
       "      <td>-0.3122</td>\n",
       "      <td>-1.204</td>\n",
       "      <td>-53.618336</td>\n",
       "    </tr>\n",
       "    <tr>\n",
       "      <th>...</th>\n",
       "      <td>...</td>\n",
       "      <td>...</td>\n",
       "      <td>...</td>\n",
       "      <td>...</td>\n",
       "      <td>...</td>\n",
       "    </tr>\n",
       "    <tr>\n",
       "      <th>1915</th>\n",
       "      <td>247.979798</td>\n",
       "      <td>0.002</td>\n",
       "      <td>0.6790</td>\n",
       "      <td>0.015</td>\n",
       "      <td>-50.566812</td>\n",
       "    </tr>\n",
       "    <tr>\n",
       "      <th>1916</th>\n",
       "      <td>248.484848</td>\n",
       "      <td>0.002</td>\n",
       "      <td>0.6790</td>\n",
       "      <td>0.015</td>\n",
       "      <td>-50.984937</td>\n",
       "    </tr>\n",
       "    <tr>\n",
       "      <th>1917</th>\n",
       "      <td>248.989899</td>\n",
       "      <td>0.002</td>\n",
       "      <td>0.6790</td>\n",
       "      <td>0.015</td>\n",
       "      <td>-53.659246</td>\n",
       "    </tr>\n",
       "    <tr>\n",
       "      <th>1918</th>\n",
       "      <td>249.494949</td>\n",
       "      <td>0.002</td>\n",
       "      <td>0.6790</td>\n",
       "      <td>0.015</td>\n",
       "      <td>-51.291140</td>\n",
       "    </tr>\n",
       "    <tr>\n",
       "      <th>1919</th>\n",
       "      <td>250.000000</td>\n",
       "      <td>0.002</td>\n",
       "      <td>0.6790</td>\n",
       "      <td>0.015</td>\n",
       "      <td>-55.484306</td>\n",
       "    </tr>\n",
       "  </tbody>\n",
       "</table>\n",
       "<p>1920 rows × 5 columns</p>\n",
       "</div>"
      ],
      "text/plain": [
       "       Frequency   posX    posY   posZ      Power\n",
       "0      60.000000 -0.698 -0.3122 -1.204 -68.131123\n",
       "1      62.222222 -0.698 -0.3122 -1.204 -65.113583\n",
       "2      64.444444 -0.698 -0.3122 -1.204 -61.822011\n",
       "3      66.666667 -0.698 -0.3122 -1.204 -58.094294\n",
       "4      68.888889 -0.698 -0.3122 -1.204 -53.618336\n",
       "...          ...    ...     ...    ...        ...\n",
       "1915  247.979798  0.002  0.6790  0.015 -50.566812\n",
       "1916  248.484848  0.002  0.6790  0.015 -50.984937\n",
       "1917  248.989899  0.002  0.6790  0.015 -53.659246\n",
       "1918  249.494949  0.002  0.6790  0.015 -51.291140\n",
       "1919  250.000000  0.002  0.6790  0.015 -55.484306\n",
       "\n",
       "[1920 rows x 5 columns]"
      ]
     },
     "execution_count": 80,
     "metadata": {},
     "output_type": "execute_result"
    }
   ],
   "source": [
    "#import comsol data\n",
    "\n",
    "#import box data\n",
    "location = '../comsolOutput/biconAnd30cmDipole_box_60_60_57_0.5MHzRes_1.1.22/'\n",
    "df_comsol_biconAnd30cmDipole_box_60_60_57 = pd.DataFrame()\n",
    "\n",
    "df_comsol_biconAnd30cmDipole_box_60_60_57['Frequency (MHz)'], \\\n",
    "    df_comsol_biconAnd30cmDipole_box_60_60_57['Power (dBm)']= np.loadtxt(location + 'powerBicon_dBm.txt', skiprows = 5, unpack = True)\n",
    "\n",
    "\n",
    "#import box data\n",
    "location = '../comsolOutput/'\n",
    "df_moveBicon_12pts = pd.DataFrame()\n",
    "\n",
    "\n",
    "df_moveBicon_12pts['Frequency'] = np.loadtxt(location + 'powerbicon_dBm_move12pts_160freqPts_1.7.21.txt', skiprows = 5, usecols = 3)\n",
    "df_moveBicon_12pts['posX'] = np.loadtxt(location + 'powerbicon_dBm_move12pts_160freqPts_1.7.21.txt', skiprows = 5, usecols = 0)\n",
    "df_moveBicon_12pts['posY'] = np.loadtxt(location + 'powerbicon_dBm_move12pts_160freqPts_1.7.21.txt', skiprows = 5, usecols = 1)\n",
    "df_moveBicon_12pts['posZ'] = np.loadtxt(location + 'powerbicon_dBm_move12pts_160freqPts_1.7.21.txt', skiprows = 5, usecols = 2)\n",
    "df_moveBicon_12pts['Power'] = np.loadtxt(location + 'powerbicon_dBm_move12pts_160freqPts_1.7.21.txt', skiprows = 5, usecols = 4)\n",
    "\n",
    "df_moveBicon_12pts"
   ]
  },
  {
   "cell_type": "code",
   "execution_count": 85,
   "id": "b984493d",
   "metadata": {},
   "outputs": [
    {
     "data": {
      "text/plain": [
       "Frequency\n",
       "60.000000    -64.351416\n",
       "62.222222    -61.581241\n",
       "64.444444    -58.577224\n",
       "66.666667    -55.249442\n",
       "68.888889    -51.474534\n",
       "                ...    \n",
       "247.979798   -31.444371\n",
       "248.484848   -33.684069\n",
       "248.989899   -34.697482\n",
       "249.494949   -38.142894\n",
       "250.000000   -30.220255\n",
       "Name: Power, Length: 160, dtype: float64"
      ]
     },
     "execution_count": 85,
     "metadata": {},
     "output_type": "execute_result"
    }
   ],
   "source": [
    "df_moveBicon_12pts.groupby('Frequency').Power.mean()"
   ]
  },
  {
   "cell_type": "code",
   "execution_count": 87,
   "id": "623f4e4b",
   "metadata": {},
   "outputs": [
    {
     "data": {
      "text/plain": [
       "Frequency   posY   \n",
       "60.000000   -0.3122   -63.015908\n",
       "             0.0140   -62.563322\n",
       "             0.6790   -67.475016\n",
       "62.222222   -0.3122   -60.294065\n",
       "             0.0140   -59.807902\n",
       "                         ...    \n",
       "249.494949   0.0140   -39.166914\n",
       "             0.6790   -38.210685\n",
       "250.000000  -0.3122   -33.491956\n",
       "             0.0140   -28.157546\n",
       "             0.6790   -29.011264\n",
       "Name: Power, Length: 480, dtype: float64"
      ]
     },
     "execution_count": 87,
     "metadata": {},
     "output_type": "execute_result"
    }
   ],
   "source": [
    "df_moveBicon_12pts.groupby(['Frequency', 'posY']).Power.mean()"
   ]
  },
  {
   "cell_type": "code",
   "execution_count": 52,
   "id": "42e1e37c",
   "metadata": {},
   "outputs": [],
   "source": [
    "freqArr = np.asarray(df_moveBicon_12pts.groupby('Frequency (MHz)').mean().iloc[:,3].index)\n",
    "powerArrMean = df_moveBicon_12pts.groupby('Frequency (MHz)').mean().iloc[:,3]\n",
    "powerArrMedian = df_moveBicon_12pts.groupby('Frequency (MHz)').median().iloc[:,3]"
   ]
  },
  {
   "cell_type": "code",
   "execution_count": 58,
   "id": "4e0a7adc",
   "metadata": {},
   "outputs": [],
   "source": [
    "%matplotlib qt \n",
    "plt.plot(freqArr, powerArrMean, label = \"Move Bicon, Mean\")\n",
    "#plt.plot(freqArr, powerArrMedian, label = \"Move Bicon, Median\")\n",
    "plt.plot(df_comsol_biconAnd30cmDipole_box_60_60_57['Frequency (MHz)'], df_comsol_biconAnd30cmDipole_box_60_60_57['Power (dBm)']- 8.57, label = 'Box')\n",
    "plt.legend()\n",
    "plt.xlabel = \"Frequency (MHz)\"\n",
    "plt.ylabel = \"Power (dBm)\""
   ]
  },
  {
   "cell_type": "code",
   "execution_count": 88,
   "id": "a2aa55f2",
   "metadata": {},
   "outputs": [
    {
     "ename": "ValueError",
     "evalue": "x and y must have same first dimension, but have shapes (160,) and (320,)",
     "output_type": "error",
     "traceback": [
      "\u001b[0;31m---------------------------------------------------------------------------\u001b[0m",
      "\u001b[0;31mValueError\u001b[0m                                Traceback (most recent call last)",
      "\u001b[0;32m/tmp/ipykernel_658047/1372598505.py\u001b[0m in \u001b[0;36m<module>\u001b[0;34m\u001b[0m\n\u001b[1;32m      1\u001b[0m \u001b[0mget_ipython\u001b[0m\u001b[0;34m(\u001b[0m\u001b[0;34m)\u001b[0m\u001b[0;34m.\u001b[0m\u001b[0mrun_line_magic\u001b[0m\u001b[0;34m(\u001b[0m\u001b[0;34m'matplotlib'\u001b[0m\u001b[0;34m,\u001b[0m \u001b[0;34m'qt'\u001b[0m\u001b[0;34m)\u001b[0m\u001b[0;34m\u001b[0m\u001b[0;34m\u001b[0m\u001b[0m\n\u001b[0;32m----> 2\u001b[0;31m \u001b[0mplt\u001b[0m\u001b[0;34m.\u001b[0m\u001b[0mplot\u001b[0m\u001b[0;34m(\u001b[0m\u001b[0mfreqArr\u001b[0m\u001b[0;34m,\u001b[0m \u001b[0mdf_moveBicon_12pts\u001b[0m\u001b[0;34m.\u001b[0m\u001b[0mgroupby\u001b[0m\u001b[0;34m(\u001b[0m\u001b[0;34m[\u001b[0m\u001b[0;34m'Frequency'\u001b[0m\u001b[0;34m,\u001b[0m \u001b[0;34m'posX'\u001b[0m\u001b[0;34m]\u001b[0m\u001b[0;34m)\u001b[0m\u001b[0;34m.\u001b[0m\u001b[0mPower\u001b[0m\u001b[0;34m.\u001b[0m\u001b[0mmean\u001b[0m\u001b[0;34m(\u001b[0m\u001b[0;34m)\u001b[0m\u001b[0;34m,\u001b[0m \u001b[0mlabel\u001b[0m \u001b[0;34m=\u001b[0m \u001b[0;34m\"Move Bicon X\"\u001b[0m\u001b[0;34m)\u001b[0m\u001b[0;34m\u001b[0m\u001b[0;34m\u001b[0m\u001b[0m\n\u001b[0m\u001b[1;32m      3\u001b[0m \u001b[0mplt\u001b[0m\u001b[0;34m.\u001b[0m\u001b[0mplot\u001b[0m\u001b[0;34m(\u001b[0m\u001b[0mdf_comsol_biconAnd30cmDipole_box_60_60_57\u001b[0m\u001b[0;34m[\u001b[0m\u001b[0;34m'Frequency (MHz)'\u001b[0m\u001b[0;34m]\u001b[0m\u001b[0;34m,\u001b[0m \u001b[0mdf_comsol_biconAnd30cmDipole_box_60_60_57\u001b[0m\u001b[0;34m[\u001b[0m\u001b[0;34m'Power (dBm)'\u001b[0m\u001b[0;34m]\u001b[0m\u001b[0;34m-\u001b[0m \u001b[0;36m8.57\u001b[0m\u001b[0;34m,\u001b[0m \u001b[0mlabel\u001b[0m \u001b[0;34m=\u001b[0m \u001b[0;34m'Box'\u001b[0m\u001b[0;34m)\u001b[0m\u001b[0;34m\u001b[0m\u001b[0;34m\u001b[0m\u001b[0m\n\u001b[1;32m      4\u001b[0m \u001b[0mplt\u001b[0m\u001b[0;34m.\u001b[0m\u001b[0mlegend\u001b[0m\u001b[0;34m(\u001b[0m\u001b[0;34m)\u001b[0m\u001b[0;34m\u001b[0m\u001b[0;34m\u001b[0m\u001b[0m\n\u001b[1;32m      5\u001b[0m \u001b[0mplt\u001b[0m\u001b[0;34m.\u001b[0m\u001b[0mxlabel\u001b[0m \u001b[0;34m=\u001b[0m \u001b[0;34m\"Frequency (MHz)\"\u001b[0m\u001b[0;34m\u001b[0m\u001b[0;34m\u001b[0m\u001b[0m\n",
      "\u001b[0;32m~/miniconda3/lib/python3.9/site-packages/matplotlib/pyplot.py\u001b[0m in \u001b[0;36mplot\u001b[0;34m(scalex, scaley, data, *args, **kwargs)\u001b[0m\n\u001b[1;32m   3017\u001b[0m \u001b[0;34m@\u001b[0m\u001b[0m_copy_docstring_and_deprecators\u001b[0m\u001b[0;34m(\u001b[0m\u001b[0mAxes\u001b[0m\u001b[0;34m.\u001b[0m\u001b[0mplot\u001b[0m\u001b[0;34m)\u001b[0m\u001b[0;34m\u001b[0m\u001b[0;34m\u001b[0m\u001b[0m\n\u001b[1;32m   3018\u001b[0m \u001b[0;32mdef\u001b[0m \u001b[0mplot\u001b[0m\u001b[0;34m(\u001b[0m\u001b[0;34m*\u001b[0m\u001b[0margs\u001b[0m\u001b[0;34m,\u001b[0m \u001b[0mscalex\u001b[0m\u001b[0;34m=\u001b[0m\u001b[0;32mTrue\u001b[0m\u001b[0;34m,\u001b[0m \u001b[0mscaley\u001b[0m\u001b[0;34m=\u001b[0m\u001b[0;32mTrue\u001b[0m\u001b[0;34m,\u001b[0m \u001b[0mdata\u001b[0m\u001b[0;34m=\u001b[0m\u001b[0;32mNone\u001b[0m\u001b[0;34m,\u001b[0m \u001b[0;34m**\u001b[0m\u001b[0mkwargs\u001b[0m\u001b[0;34m)\u001b[0m\u001b[0;34m:\u001b[0m\u001b[0;34m\u001b[0m\u001b[0;34m\u001b[0m\u001b[0m\n\u001b[0;32m-> 3019\u001b[0;31m     return gca().plot(\n\u001b[0m\u001b[1;32m   3020\u001b[0m         \u001b[0;34m*\u001b[0m\u001b[0margs\u001b[0m\u001b[0;34m,\u001b[0m \u001b[0mscalex\u001b[0m\u001b[0;34m=\u001b[0m\u001b[0mscalex\u001b[0m\u001b[0;34m,\u001b[0m \u001b[0mscaley\u001b[0m\u001b[0;34m=\u001b[0m\u001b[0mscaley\u001b[0m\u001b[0;34m,\u001b[0m\u001b[0;34m\u001b[0m\u001b[0;34m\u001b[0m\u001b[0m\n\u001b[1;32m   3021\u001b[0m         **({\"data\": data} if data is not None else {}), **kwargs)\n",
      "\u001b[0;32m~/miniconda3/lib/python3.9/site-packages/matplotlib/axes/_axes.py\u001b[0m in \u001b[0;36mplot\u001b[0;34m(self, scalex, scaley, data, *args, **kwargs)\u001b[0m\n\u001b[1;32m   1603\u001b[0m         \"\"\"\n\u001b[1;32m   1604\u001b[0m         \u001b[0mkwargs\u001b[0m \u001b[0;34m=\u001b[0m \u001b[0mcbook\u001b[0m\u001b[0;34m.\u001b[0m\u001b[0mnormalize_kwargs\u001b[0m\u001b[0;34m(\u001b[0m\u001b[0mkwargs\u001b[0m\u001b[0;34m,\u001b[0m \u001b[0mmlines\u001b[0m\u001b[0;34m.\u001b[0m\u001b[0mLine2D\u001b[0m\u001b[0;34m)\u001b[0m\u001b[0;34m\u001b[0m\u001b[0;34m\u001b[0m\u001b[0m\n\u001b[0;32m-> 1605\u001b[0;31m         \u001b[0mlines\u001b[0m \u001b[0;34m=\u001b[0m \u001b[0;34m[\u001b[0m\u001b[0;34m*\u001b[0m\u001b[0mself\u001b[0m\u001b[0;34m.\u001b[0m\u001b[0m_get_lines\u001b[0m\u001b[0;34m(\u001b[0m\u001b[0;34m*\u001b[0m\u001b[0margs\u001b[0m\u001b[0;34m,\u001b[0m \u001b[0mdata\u001b[0m\u001b[0;34m=\u001b[0m\u001b[0mdata\u001b[0m\u001b[0;34m,\u001b[0m \u001b[0;34m**\u001b[0m\u001b[0mkwargs\u001b[0m\u001b[0;34m)\u001b[0m\u001b[0;34m]\u001b[0m\u001b[0;34m\u001b[0m\u001b[0;34m\u001b[0m\u001b[0m\n\u001b[0m\u001b[1;32m   1606\u001b[0m         \u001b[0;32mfor\u001b[0m \u001b[0mline\u001b[0m \u001b[0;32min\u001b[0m \u001b[0mlines\u001b[0m\u001b[0;34m:\u001b[0m\u001b[0;34m\u001b[0m\u001b[0;34m\u001b[0m\u001b[0m\n\u001b[1;32m   1607\u001b[0m             \u001b[0mself\u001b[0m\u001b[0;34m.\u001b[0m\u001b[0madd_line\u001b[0m\u001b[0;34m(\u001b[0m\u001b[0mline\u001b[0m\u001b[0;34m)\u001b[0m\u001b[0;34m\u001b[0m\u001b[0;34m\u001b[0m\u001b[0m\n",
      "\u001b[0;32m~/miniconda3/lib/python3.9/site-packages/matplotlib/axes/_base.py\u001b[0m in \u001b[0;36m__call__\u001b[0;34m(self, data, *args, **kwargs)\u001b[0m\n\u001b[1;32m    313\u001b[0m                 \u001b[0mthis\u001b[0m \u001b[0;34m+=\u001b[0m \u001b[0margs\u001b[0m\u001b[0;34m[\u001b[0m\u001b[0;36m0\u001b[0m\u001b[0;34m]\u001b[0m\u001b[0;34m,\u001b[0m\u001b[0;34m\u001b[0m\u001b[0;34m\u001b[0m\u001b[0m\n\u001b[1;32m    314\u001b[0m                 \u001b[0margs\u001b[0m \u001b[0;34m=\u001b[0m \u001b[0margs\u001b[0m\u001b[0;34m[\u001b[0m\u001b[0;36m1\u001b[0m\u001b[0;34m:\u001b[0m\u001b[0;34m]\u001b[0m\u001b[0;34m\u001b[0m\u001b[0;34m\u001b[0m\u001b[0m\n\u001b[0;32m--> 315\u001b[0;31m             \u001b[0;32myield\u001b[0m \u001b[0;32mfrom\u001b[0m \u001b[0mself\u001b[0m\u001b[0;34m.\u001b[0m\u001b[0m_plot_args\u001b[0m\u001b[0;34m(\u001b[0m\u001b[0mthis\u001b[0m\u001b[0;34m,\u001b[0m \u001b[0mkwargs\u001b[0m\u001b[0;34m)\u001b[0m\u001b[0;34m\u001b[0m\u001b[0;34m\u001b[0m\u001b[0m\n\u001b[0m\u001b[1;32m    316\u001b[0m \u001b[0;34m\u001b[0m\u001b[0m\n\u001b[1;32m    317\u001b[0m     \u001b[0;32mdef\u001b[0m \u001b[0mget_next_color\u001b[0m\u001b[0;34m(\u001b[0m\u001b[0mself\u001b[0m\u001b[0;34m)\u001b[0m\u001b[0;34m:\u001b[0m\u001b[0;34m\u001b[0m\u001b[0;34m\u001b[0m\u001b[0m\n",
      "\u001b[0;32m~/miniconda3/lib/python3.9/site-packages/matplotlib/axes/_base.py\u001b[0m in \u001b[0;36m_plot_args\u001b[0;34m(self, tup, kwargs, return_kwargs)\u001b[0m\n\u001b[1;32m    499\u001b[0m \u001b[0;34m\u001b[0m\u001b[0m\n\u001b[1;32m    500\u001b[0m         \u001b[0;32mif\u001b[0m \u001b[0mx\u001b[0m\u001b[0;34m.\u001b[0m\u001b[0mshape\u001b[0m\u001b[0;34m[\u001b[0m\u001b[0;36m0\u001b[0m\u001b[0;34m]\u001b[0m \u001b[0;34m!=\u001b[0m \u001b[0my\u001b[0m\u001b[0;34m.\u001b[0m\u001b[0mshape\u001b[0m\u001b[0;34m[\u001b[0m\u001b[0;36m0\u001b[0m\u001b[0;34m]\u001b[0m\u001b[0;34m:\u001b[0m\u001b[0;34m\u001b[0m\u001b[0;34m\u001b[0m\u001b[0m\n\u001b[0;32m--> 501\u001b[0;31m             raise ValueError(f\"x and y must have same first dimension, but \"\n\u001b[0m\u001b[1;32m    502\u001b[0m                              f\"have shapes {x.shape} and {y.shape}\")\n\u001b[1;32m    503\u001b[0m         \u001b[0;32mif\u001b[0m \u001b[0mx\u001b[0m\u001b[0;34m.\u001b[0m\u001b[0mndim\u001b[0m \u001b[0;34m>\u001b[0m \u001b[0;36m2\u001b[0m \u001b[0;32mor\u001b[0m \u001b[0my\u001b[0m\u001b[0;34m.\u001b[0m\u001b[0mndim\u001b[0m \u001b[0;34m>\u001b[0m \u001b[0;36m2\u001b[0m\u001b[0;34m:\u001b[0m\u001b[0;34m\u001b[0m\u001b[0;34m\u001b[0m\u001b[0m\n",
      "\u001b[0;31mValueError\u001b[0m: x and y must have same first dimension, but have shapes (160,) and (320,)"
     ]
    }
   ],
   "source": [
    "%matplotlib qt \n",
    "plt.plot(freqArr, df_moveBicon_12pts.groupby(['Frequency', 'posX']).Power.mean(), label = \"Move Bicon X\")\n",
    "plt.plot(df_comsol_biconAnd30cmDipole_box_60_60_57['Frequency (MHz)'], df_comsol_biconAnd30cmDipole_box_60_60_57['Power (dBm)']- 8.57, label = 'Box')\n",
    "plt.legend()\n",
    "plt.xlabel = \"Frequency (MHz)\"\n",
    "plt.ylabel = \"Power (dBm)\"\n",
    "    "
   ]
  },
  {
   "cell_type": "code",
   "execution_count": null,
   "id": "7c07bdfc",
   "metadata": {},
   "outputs": [],
   "source": []
  }
 ],
 "metadata": {
  "kernelspec": {
   "display_name": "Python 3 (ipykernel)",
   "language": "python",
   "name": "python3"
  },
  "language_info": {
   "codemirror_mode": {
    "name": "ipython",
    "version": 3
   },
   "file_extension": ".py",
   "mimetype": "text/x-python",
   "name": "python",
   "nbconvert_exporter": "python",
   "pygments_lexer": "ipython3",
   "version": "3.9.5"
  }
 },
 "nbformat": 4,
 "nbformat_minor": 5
}
